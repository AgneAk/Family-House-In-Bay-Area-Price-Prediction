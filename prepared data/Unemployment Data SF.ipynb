{
 "cells": [
  {
   "cell_type": "code",
   "execution_count": 1,
   "id": "2c5e10c9",
   "metadata": {},
   "outputs": [],
   "source": [
    "import pandas as pd\n",
    "import requests\n",
    "import json\n",
    "import time\n",
    "import matplotlib.pyplot as plt\n",
    "import numpy as np\n",
    "import matplotlib.ticker as ticker\n",
    "import seaborn as sns"
   ]
  },
  {
   "cell_type": "code",
   "execution_count": 2,
   "id": "7836ca8f",
   "metadata": {},
   "outputs": [
    {
     "name": "stdout",
     "output_type": "stream",
     "text": [
      "             Series ID  Year Period     Label  Value\n",
      "0     California State  2000    M01  2000 Jan    5.0\n",
      "1     California State  2000    M02  2000 Feb    5.0\n",
      "2     California State  2000    M03  2000 Mar    5.0\n",
      "3     California State  2000    M04  2000 Apr    5.0\n",
      "4     California State  2000    M05  2000 May    5.0\n",
      "...                ...   ...    ...       ...    ...\n",
      "2735     Sonoma County  2022    M06  2022 Jun    2.7\n",
      "2736     Sonoma County  2022    M07  2022 Jul    2.6\n",
      "2737     Sonoma County  2022    M08  2022 Aug    2.8\n",
      "2738     Sonoma County  2022    M09  2022 Sep    2.6\n",
      "2739     Sonoma County  2022    M10  2022 Oct    2.6\n",
      "\n",
      "[2740 rows x 5 columns]\n"
     ]
    }
   ],
   "source": [
    "#unemployment rates in Bay Area Counties\n",
    "unemploymentdf = pd.read_csv('/Users/baytech11/Downloads/unemployment rate counties.csv')\n",
    "\n",
    "#original source U.S. BUREAU OF LABOR STATISTICS:\n",
    "#https://beta.bls.gov/dataViewer/view\n",
    "\n",
    "#updating ID Values to County names\n",
    "unemploymentdf['Series ID'] = unemploymentdf['Series ID'].replace({'LAUCN060010000000003': 'Alameda'})\n",
    "unemploymentdf['Series ID'] = unemploymentdf['Series ID'].replace({'LAUCN060130000000003': 'Contra Costa'})\n",
    "unemploymentdf['Series ID'] = unemploymentdf['Series ID'].replace({'LAUCN060410000000003': 'Marin'})\n",
    "unemploymentdf['Series ID'] = unemploymentdf['Series ID'].replace({'LAUCN060750000000003': 'San Francisco'})\n",
    "unemploymentdf['Series ID'] = unemploymentdf['Series ID'].replace({'LAUCN060550000000003': 'Napa'})\n",
    "unemploymentdf['Series ID'] = unemploymentdf['Series ID'].replace({'LAUCN060950000000003': 'Solano'})\n",
    "unemploymentdf['Series ID'] = unemploymentdf['Series ID'].replace({'LAUCN060970000000003': 'Sonoma'})\n",
    "unemploymentdf['Series ID'] = unemploymentdf['Series ID'].replace({'LAUCN060810000000003': 'San Mateo'})\n",
    "unemploymentdf['Series ID'] = unemploymentdf['Series ID'].replace({'LAUCN060850000000003': 'Santa Clara'})\n",
    "unemploymentdf['Series ID'] = unemploymentdf['Series ID'].replace({'LASST060000000000003': 'California State'})\n",
    "\n",
    "# writing into the file\n",
    "unemploymentdf.to_csv(\"unemployment rate counties.csv\", index=False)\n",
    "print(unemploymentdf)"
   ]
  },
  {
   "cell_type": "code",
   "execution_count": 3,
   "id": "a148672d",
   "metadata": {},
   "outputs": [
    {
     "data": {
      "text/plain": [
       "Index(['Series ID', 'Year', 'Period', 'Label', 'Value'], dtype='object')"
      ]
     },
     "execution_count": 3,
     "metadata": {},
     "output_type": "execute_result"
    }
   ],
   "source": [
    "unemploymentdf.columns"
   ]
  },
  {
   "cell_type": "code",
   "execution_count": 4,
   "id": "2e38c00b",
   "metadata": {},
   "outputs": [
    {
     "name": "stdout",
     "output_type": "stream",
     "text": [
      "<class 'pandas.core.frame.DataFrame'>\n",
      "RangeIndex: 2740 entries, 0 to 2739\n",
      "Data columns (total 5 columns):\n",
      " #   Column     Non-Null Count  Dtype  \n",
      "---  ------     --------------  -----  \n",
      " 0   Series ID  2740 non-null   object \n",
      " 1   Year       2740 non-null   int64  \n",
      " 2   Period     2740 non-null   object \n",
      " 3   Label      2740 non-null   object \n",
      " 4   Value      2740 non-null   float64\n",
      "dtypes: float64(1), int64(1), object(3)\n",
      "memory usage: 107.2+ KB\n"
     ]
    }
   ],
   "source": [
    "unemploymentdf.info()"
   ]
  },
  {
   "cell_type": "code",
   "execution_count": 5,
   "id": "b97dbbcf",
   "metadata": {},
   "outputs": [
    {
     "data": {
      "text/plain": [
       "False"
      ]
     },
     "execution_count": 5,
     "metadata": {},
     "output_type": "execute_result"
    }
   ],
   "source": [
    "#checking if there is any missing values\n",
    "unemploymentdf.isnull().values.any()"
   ]
  },
  {
   "cell_type": "code",
   "execution_count": 6,
   "id": "3e005314",
   "metadata": {},
   "outputs": [],
   "source": [
    "# changing column names for Series ID and 3-Month Net Change, Label to Date:\n",
    "unemploymentdf.rename(columns = {'Series ID':'County'}, inplace = True)\n",
    "unemploymentdf.rename(columns = {'3-Month Net Change':'3Month_Net_Change'}, inplace = True)\n",
    "unemploymentdf.rename(columns = {'Label':'Date'}, inplace = True)"
   ]
  },
  {
   "cell_type": "code",
   "execution_count": 7,
   "id": "c8da31bc",
   "metadata": {},
   "outputs": [],
   "source": [
    "# changing date format\n",
    "unemploymentdf['Date'] = pd.to_datetime(unemploymentdf['Date']).dt.date\n",
    "#unemploymentdf['Label']=pd.to_datetime(unemploymentdf['Label'], format = \"%Y %b\")"
   ]
  },
  {
   "cell_type": "code",
   "execution_count": 8,
   "id": "a568b0f1",
   "metadata": {},
   "outputs": [
    {
     "data": {
      "text/html": [
       "<div>\n",
       "<style scoped>\n",
       "    .dataframe tbody tr th:only-of-type {\n",
       "        vertical-align: middle;\n",
       "    }\n",
       "\n",
       "    .dataframe tbody tr th {\n",
       "        vertical-align: top;\n",
       "    }\n",
       "\n",
       "    .dataframe thead th {\n",
       "        text-align: right;\n",
       "    }\n",
       "</style>\n",
       "<table border=\"1\" class=\"dataframe\">\n",
       "  <thead>\n",
       "    <tr style=\"text-align: right;\">\n",
       "      <th></th>\n",
       "      <th>County</th>\n",
       "      <th>Year</th>\n",
       "      <th>Period</th>\n",
       "      <th>Date</th>\n",
       "      <th>Value</th>\n",
       "    </tr>\n",
       "  </thead>\n",
       "  <tbody>\n",
       "    <tr>\n",
       "      <th>0</th>\n",
       "      <td>California State</td>\n",
       "      <td>2000</td>\n",
       "      <td>M01</td>\n",
       "      <td>2000-01-01</td>\n",
       "      <td>5.0</td>\n",
       "    </tr>\n",
       "    <tr>\n",
       "      <th>1</th>\n",
       "      <td>California State</td>\n",
       "      <td>2000</td>\n",
       "      <td>M02</td>\n",
       "      <td>2000-02-01</td>\n",
       "      <td>5.0</td>\n",
       "    </tr>\n",
       "    <tr>\n",
       "      <th>2</th>\n",
       "      <td>California State</td>\n",
       "      <td>2000</td>\n",
       "      <td>M03</td>\n",
       "      <td>2000-03-01</td>\n",
       "      <td>5.0</td>\n",
       "    </tr>\n",
       "    <tr>\n",
       "      <th>3</th>\n",
       "      <td>California State</td>\n",
       "      <td>2000</td>\n",
       "      <td>M04</td>\n",
       "      <td>2000-04-01</td>\n",
       "      <td>5.0</td>\n",
       "    </tr>\n",
       "    <tr>\n",
       "      <th>4</th>\n",
       "      <td>California State</td>\n",
       "      <td>2000</td>\n",
       "      <td>M05</td>\n",
       "      <td>2000-05-01</td>\n",
       "      <td>5.0</td>\n",
       "    </tr>\n",
       "  </tbody>\n",
       "</table>\n",
       "</div>"
      ],
      "text/plain": [
       "             County  Year Period        Date  Value\n",
       "0  California State  2000    M01  2000-01-01    5.0\n",
       "1  California State  2000    M02  2000-02-01    5.0\n",
       "2  California State  2000    M03  2000-03-01    5.0\n",
       "3  California State  2000    M04  2000-04-01    5.0\n",
       "4  California State  2000    M05  2000-05-01    5.0"
      ]
     },
     "execution_count": 8,
     "metadata": {},
     "output_type": "execute_result"
    }
   ],
   "source": [
    "unemploymentdf.head()"
   ]
  },
  {
   "cell_type": "code",
   "execution_count": 9,
   "id": "398cd19b",
   "metadata": {},
   "outputs": [
    {
     "data": {
      "text/plain": [
       "<bound method DataFrame.info of                 County  Year Period        Date  Value\n",
       "0     California State  2000    M01  2000-01-01    5.0\n",
       "1     California State  2000    M02  2000-02-01    5.0\n",
       "2     California State  2000    M03  2000-03-01    5.0\n",
       "3     California State  2000    M04  2000-04-01    5.0\n",
       "4     California State  2000    M05  2000-05-01    5.0\n",
       "...                ...   ...    ...         ...    ...\n",
       "2735     Sonoma County  2022    M06  2022-06-01    2.7\n",
       "2736     Sonoma County  2022    M07  2022-07-01    2.6\n",
       "2737     Sonoma County  2022    M08  2022-08-01    2.8\n",
       "2738     Sonoma County  2022    M09  2022-09-01    2.6\n",
       "2739     Sonoma County  2022    M10  2022-10-01    2.6\n",
       "\n",
       "[2740 rows x 5 columns]>"
      ]
     },
     "execution_count": 9,
     "metadata": {},
     "output_type": "execute_result"
    }
   ],
   "source": [
    "unemploymentdf.info"
   ]
  },
  {
   "cell_type": "code",
   "execution_count": 10,
   "id": "9f8ddff9",
   "metadata": {},
   "outputs": [
    {
     "data": {
      "text/plain": [
       "<matplotlib.legend.Legend at 0x7fa3f9c62130>"
      ]
     },
     "execution_count": 10,
     "metadata": {},
     "output_type": "execute_result"
    },
    {
     "data": {
      "image/png": "[encoded data removed]",
      "text/plain": [
       "<Figure size 432x288 with 1 Axes>"
      ]
     },
     "metadata": {
      "needs_background": "light"
     },
     "output_type": "display_data"
    }
   ],
   "source": [
    "sns.lineplot(x=\"Date\", y=\"Value\", data=unemploymentdf, hue = 'County')\n",
    "plt.legend(bbox_to_anchor=(1.05, 1), loc='upper left', borderaxespad=0)"
   ]
  },
  {
   "cell_type": "code",
   "execution_count": 11,
   "id": "529c23b4",
   "metadata": {},
   "outputs": [],
   "source": [
    "#I want to calculate mean and median of unemployment values for each county for the year 2022\n",
    "unemploymentdf = unemploymentdf.loc[unemploymentdf['Year'].isin([2022])]"
   ]
  },
  {
   "cell_type": "code",
   "execution_count": 12,
   "id": "c698546f",
   "metadata": {},
   "outputs": [
    {
     "data": {
      "text/html": [
       "<div>\n",
       "<style scoped>\n",
       "    .dataframe tbody tr th:only-of-type {\n",
       "        vertical-align: middle;\n",
       "    }\n",
       "\n",
       "    .dataframe tbody tr th {\n",
       "        vertical-align: top;\n",
       "    }\n",
       "\n",
       "    .dataframe thead th {\n",
       "        text-align: right;\n",
       "    }\n",
       "</style>\n",
       "<table border=\"1\" class=\"dataframe\">\n",
       "  <thead>\n",
       "    <tr style=\"text-align: right;\">\n",
       "      <th></th>\n",
       "      <th>Year</th>\n",
       "      <th>Period</th>\n",
       "      <th>Date</th>\n",
       "      <th>Value</th>\n",
       "    </tr>\n",
       "    <tr>\n",
       "      <th>County</th>\n",
       "      <th></th>\n",
       "      <th></th>\n",
       "      <th></th>\n",
       "      <th></th>\n",
       "    </tr>\n",
       "  </thead>\n",
       "  <tbody>\n",
       "    <tr>\n",
       "      <th>California State</th>\n",
       "      <td>2022</td>\n",
       "      <td>M01</td>\n",
       "      <td>2022-01-01</td>\n",
       "      <td>5.7</td>\n",
       "    </tr>\n",
       "    <tr>\n",
       "      <th>California State</th>\n",
       "      <td>2022</td>\n",
       "      <td>M02</td>\n",
       "      <td>2022-02-01</td>\n",
       "      <td>5.3</td>\n",
       "    </tr>\n",
       "    <tr>\n",
       "      <th>California State</th>\n",
       "      <td>2022</td>\n",
       "      <td>M03</td>\n",
       "      <td>2022-03-01</td>\n",
       "      <td>4.8</td>\n",
       "    </tr>\n",
       "    <tr>\n",
       "      <th>California State</th>\n",
       "      <td>2022</td>\n",
       "      <td>M04</td>\n",
       "      <td>2022-04-01</td>\n",
       "      <td>4.6</td>\n",
       "    </tr>\n",
       "    <tr>\n",
       "      <th>California State</th>\n",
       "      <td>2022</td>\n",
       "      <td>M05</td>\n",
       "      <td>2022-05-01</td>\n",
       "      <td>4.3</td>\n",
       "    </tr>\n",
       "  </tbody>\n",
       "</table>\n",
       "</div>"
      ],
      "text/plain": [
       "                  Year Period        Date  Value\n",
       "County                                          \n",
       "California State  2022    M01  2022-01-01    5.7\n",
       "California State  2022    M02  2022-02-01    5.3\n",
       "California State  2022    M03  2022-03-01    4.8\n",
       "California State  2022    M04  2022-04-01    4.6\n",
       "California State  2022    M05  2022-05-01    4.3"
      ]
     },
     "execution_count": 12,
     "metadata": {},
     "output_type": "execute_result"
    }
   ],
   "source": [
    "#Removing California state results from data fram\n",
    "counties_data = unemploymentdf.set_index('County')\n",
    "counties_data.head()"
   ]
  },
  {
   "cell_type": "code",
   "execution_count": 13,
   "id": "2a6e542a",
   "metadata": {},
   "outputs": [],
   "source": [
    "counties_data = counties_data.drop('California State')"
   ]
  },
  {
   "cell_type": "code",
   "execution_count": 14,
   "id": "343dba05",
   "metadata": {},
   "outputs": [
    {
     "name": "stdout",
     "output_type": "stream",
     "text": [
      "[2022]\n",
      "['M01' 'M02' 'M03' 'M04' 'M05' 'M06' 'M07' 'M08' 'M09' 'M10']\n",
      "[datetime.date(2022, 1, 1) datetime.date(2022, 2, 1)\n",
      " datetime.date(2022, 3, 1) datetime.date(2022, 4, 1)\n",
      " datetime.date(2022, 5, 1) datetime.date(2022, 6, 1)\n",
      " datetime.date(2022, 7, 1) datetime.date(2022, 8, 1)\n",
      " datetime.date(2022, 9, 1) datetime.date(2022, 10, 1)]\n",
      "[4.4 3.8 3.2 2.8 2.5 3.  2.9 3.1 4.7 4.1 3.5 2.7 3.4 2.4 2.1 1.8 2.2 4.6\n",
      " 3.9 2.3 2.6 1.9 1.7 2.  3.3 6.  5.3 4.  4.2]\n"
     ]
    }
   ],
   "source": [
    "for col in counties_data:\n",
    "  print(counties_data[col].unique())"
   ]
  },
  {
   "cell_type": "code",
   "execution_count": 15,
   "id": "bac2956b",
   "metadata": {},
   "outputs": [],
   "source": [
    "#Calculating mean and meadian for each county\n",
    "counties_data ['avg_rate'] = counties_data.groupby('County')['Value'].agg(np.mean)\n"
   ]
  },
  {
   "cell_type": "code",
   "execution_count": 16,
   "id": "8123c1ae",
   "metadata": {},
   "outputs": [
    {
     "data": {
      "text/plain": [
       "<bound method DataFrame.info of                Year Period        Date  Value  avg_rate\n",
       "County                                                 \n",
       "Alameda        2022    M01  2022-01-01    4.4      3.15\n",
       "Alameda        2022    M02  2022-02-01    3.8      3.15\n",
       "Alameda        2022    M03  2022-03-01    3.2      3.15\n",
       "Alameda        2022    M04  2022-04-01    2.8      3.15\n",
       "Alameda        2022    M05  2022-05-01    2.5      3.15\n",
       "...             ...    ...         ...    ...       ...\n",
       "Sonoma County  2022    M06  2022-06-01    2.7      2.87\n",
       "Sonoma County  2022    M07  2022-07-01    2.6      2.87\n",
       "Sonoma County  2022    M08  2022-08-01    2.8      2.87\n",
       "Sonoma County  2022    M09  2022-09-01    2.6      2.87\n",
       "Sonoma County  2022    M10  2022-10-01    2.6      2.87\n",
       "\n",
       "[90 rows x 5 columns]>"
      ]
     },
     "execution_count": 16,
     "metadata": {},
     "output_type": "execute_result"
    }
   ],
   "source": [
    "counties_data.info"
   ]
  },
  {
   "cell_type": "code",
   "execution_count": 17,
   "id": "d39dba35",
   "metadata": {},
   "outputs": [
    {
     "data": {
      "text/html": [
       "<div>\n",
       "<style scoped>\n",
       "    .dataframe tbody tr th:only-of-type {\n",
       "        vertical-align: middle;\n",
       "    }\n",
       "\n",
       "    .dataframe tbody tr th {\n",
       "        vertical-align: top;\n",
       "    }\n",
       "\n",
       "    .dataframe thead th {\n",
       "        text-align: right;\n",
       "    }\n",
       "</style>\n",
       "<table border=\"1\" class=\"dataframe\">\n",
       "  <thead>\n",
       "    <tr style=\"text-align: right;\">\n",
       "      <th></th>\n",
       "      <th>Year</th>\n",
       "      <th>Period</th>\n",
       "      <th>Date</th>\n",
       "      <th>Value</th>\n",
       "      <th>avg_rate</th>\n",
       "    </tr>\n",
       "    <tr>\n",
       "      <th>County</th>\n",
       "      <th></th>\n",
       "      <th></th>\n",
       "      <th></th>\n",
       "      <th></th>\n",
       "      <th></th>\n",
       "    </tr>\n",
       "  </thead>\n",
       "  <tbody>\n",
       "    <tr>\n",
       "      <th>Alameda</th>\n",
       "      <td>2022</td>\n",
       "      <td>M01</td>\n",
       "      <td>2022-01-01</td>\n",
       "      <td>4.4</td>\n",
       "      <td>3.15</td>\n",
       "    </tr>\n",
       "    <tr>\n",
       "      <th>Alameda</th>\n",
       "      <td>2022</td>\n",
       "      <td>M02</td>\n",
       "      <td>2022-02-01</td>\n",
       "      <td>3.8</td>\n",
       "      <td>3.15</td>\n",
       "    </tr>\n",
       "    <tr>\n",
       "      <th>Alameda</th>\n",
       "      <td>2022</td>\n",
       "      <td>M03</td>\n",
       "      <td>2022-03-01</td>\n",
       "      <td>3.2</td>\n",
       "      <td>3.15</td>\n",
       "    </tr>\n",
       "    <tr>\n",
       "      <th>Alameda</th>\n",
       "      <td>2022</td>\n",
       "      <td>M04</td>\n",
       "      <td>2022-04-01</td>\n",
       "      <td>2.8</td>\n",
       "      <td>3.15</td>\n",
       "    </tr>\n",
       "    <tr>\n",
       "      <th>Alameda</th>\n",
       "      <td>2022</td>\n",
       "      <td>M05</td>\n",
       "      <td>2022-05-01</td>\n",
       "      <td>2.5</td>\n",
       "      <td>3.15</td>\n",
       "    </tr>\n",
       "  </tbody>\n",
       "</table>\n",
       "</div>"
      ],
      "text/plain": [
       "         Year Period        Date  Value  avg_rate\n",
       "County                                           \n",
       "Alameda  2022    M01  2022-01-01    4.4      3.15\n",
       "Alameda  2022    M02  2022-02-01    3.8      3.15\n",
       "Alameda  2022    M03  2022-03-01    3.2      3.15\n",
       "Alameda  2022    M04  2022-04-01    2.8      3.15\n",
       "Alameda  2022    M05  2022-05-01    2.5      3.15"
      ]
     },
     "execution_count": 17,
     "metadata": {},
     "output_type": "execute_result"
    }
   ],
   "source": [
    "counties_data.head()"
   ]
  },
  {
   "cell_type": "code",
   "execution_count": 18,
   "id": "039db153",
   "metadata": {},
   "outputs": [],
   "source": [
    "counties_data = counties_data.reset_index()"
   ]
  },
  {
   "cell_type": "code",
   "execution_count": 19,
   "id": "4bb17e0c",
   "metadata": {},
   "outputs": [
    {
     "data": {
      "text/html": [
       "<div>\n",
       "<style scoped>\n",
       "    .dataframe tbody tr th:only-of-type {\n",
       "        vertical-align: middle;\n",
       "    }\n",
       "\n",
       "    .dataframe tbody tr th {\n",
       "        vertical-align: top;\n",
       "    }\n",
       "\n",
       "    .dataframe thead th {\n",
       "        text-align: right;\n",
       "    }\n",
       "</style>\n",
       "<table border=\"1\" class=\"dataframe\">\n",
       "  <thead>\n",
       "    <tr style=\"text-align: right;\">\n",
       "      <th></th>\n",
       "      <th>County</th>\n",
       "      <th>Year</th>\n",
       "      <th>Period</th>\n",
       "      <th>Date</th>\n",
       "      <th>Value</th>\n",
       "      <th>avg_rate</th>\n",
       "    </tr>\n",
       "  </thead>\n",
       "  <tbody>\n",
       "    <tr>\n",
       "      <th>0</th>\n",
       "      <td>Alameda</td>\n",
       "      <td>2022</td>\n",
       "      <td>M01</td>\n",
       "      <td>2022-01-01</td>\n",
       "      <td>4.4</td>\n",
       "      <td>3.15</td>\n",
       "    </tr>\n",
       "    <tr>\n",
       "      <th>1</th>\n",
       "      <td>Alameda</td>\n",
       "      <td>2022</td>\n",
       "      <td>M02</td>\n",
       "      <td>2022-02-01</td>\n",
       "      <td>3.8</td>\n",
       "      <td>3.15</td>\n",
       "    </tr>\n",
       "    <tr>\n",
       "      <th>2</th>\n",
       "      <td>Alameda</td>\n",
       "      <td>2022</td>\n",
       "      <td>M03</td>\n",
       "      <td>2022-03-01</td>\n",
       "      <td>3.2</td>\n",
       "      <td>3.15</td>\n",
       "    </tr>\n",
       "    <tr>\n",
       "      <th>3</th>\n",
       "      <td>Alameda</td>\n",
       "      <td>2022</td>\n",
       "      <td>M04</td>\n",
       "      <td>2022-04-01</td>\n",
       "      <td>2.8</td>\n",
       "      <td>3.15</td>\n",
       "    </tr>\n",
       "    <tr>\n",
       "      <th>4</th>\n",
       "      <td>Alameda</td>\n",
       "      <td>2022</td>\n",
       "      <td>M05</td>\n",
       "      <td>2022-05-01</td>\n",
       "      <td>2.5</td>\n",
       "      <td>3.15</td>\n",
       "    </tr>\n",
       "  </tbody>\n",
       "</table>\n",
       "</div>"
      ],
      "text/plain": [
       "    County  Year Period        Date  Value  avg_rate\n",
       "0  Alameda  2022    M01  2022-01-01    4.4      3.15\n",
       "1  Alameda  2022    M02  2022-02-01    3.8      3.15\n",
       "2  Alameda  2022    M03  2022-03-01    3.2      3.15\n",
       "3  Alameda  2022    M04  2022-04-01    2.8      3.15\n",
       "4  Alameda  2022    M05  2022-05-01    2.5      3.15"
      ]
     },
     "execution_count": 19,
     "metadata": {},
     "output_type": "execute_result"
    }
   ],
   "source": [
    "counties_data.head()"
   ]
  },
  {
   "cell_type": "code",
   "execution_count": 20,
   "id": "8399a5a2",
   "metadata": {},
   "outputs": [
    {
     "name": "stdout",
     "output_type": "stream",
     "text": [
      "           County  avg_rate\n",
      "0         Alameda      3.15\n",
      "1         Alameda      3.15\n",
      "2         Alameda      3.15\n",
      "3         Alameda      3.15\n",
      "4         Alameda      3.15\n",
      "..            ...       ...\n",
      "85  Sonoma County      2.87\n",
      "86  Sonoma County      2.87\n",
      "87  Sonoma County      2.87\n",
      "88  Sonoma County      2.87\n",
      "89  Sonoma County      2.87\n",
      "\n",
      "[90 rows x 2 columns]\n"
     ]
    }
   ],
   "source": [
    "counties_unemployment = counties_data[['County', 'avg_rate']].copy()\n",
    "\n",
    "print(counties_unemployment)"
   ]
  },
  {
   "cell_type": "code",
   "execution_count": 21,
   "id": "16308641",
   "metadata": {},
   "outputs": [],
   "source": [
    "counties_unemployment = counties_unemployment.drop_duplicates()"
   ]
  },
  {
   "cell_type": "code",
   "execution_count": 22,
   "id": "06abef35",
   "metadata": {},
   "outputs": [
    {
     "name": "stdout",
     "output_type": "stream",
     "text": [
      "           County  avg_rate\n",
      "0         Alameda      3.15\n",
      "10   Contra Costa      3.41\n",
      "20          Marin      2.34\n",
      "30           Napa      3.03\n",
      "40  San Francisco      2.39\n",
      "50      San Mateo      2.20\n",
      "60    Santa Clara      2.35\n",
      "70  Solano County      4.32\n",
      "80  Sonoma County      2.87\n"
     ]
    }
   ],
   "source": [
    "print(counties_unemployment)"
   ]
  },
  {
   "cell_type": "code",
   "execution_count": 23,
   "id": "f26e8e39",
   "metadata": {},
   "outputs": [
    {
     "data": {
      "text/plain": [
       "Text(0.5, 1.0, 'Unemployment Rates (%) in Bay Area Counties (Year of 2022)')"
      ]
     },
     "execution_count": 23,
     "metadata": {},
     "output_type": "execute_result"
    },
    {
     "data": {
      "image/png": "[encoded data removed]",
      "text/plain": [
       "<Figure size 432x288 with 1 Axes>"
      ]
     },
     "metadata": {
      "needs_background": "light"
     },
     "output_type": "display_data"
    }
   ],
   "source": [
    "plt.bar('County', height = 'avg_rate',data=counties_unemployment)\n",
    "plt.xticks(rotation=90)\n",
    "plt.xlabel('Counties')\n",
    "plt.ylabel('Average Unemployment Rate (%)')\n",
    "plt.title('Unemployment Rates (%) in Bay Area Counties (Year of 2022)')"
   ]
  },
  {
   "cell_type": "code",
   "execution_count": 24,
   "id": "71a80e8f",
   "metadata": {},
   "outputs": [],
   "source": [
    "counties_unemployment.to_csv('/Users/baytech11/Desktop/Agnes/Springboard/Capstone Project/prepared data/unemployment_data', index=False)"
   ]
  },
  {
   "cell_type": "code",
   "execution_count": null,
   "id": "e46e9b09",
   "metadata": {},
   "outputs": [],
   "source": []
  }
 ],
 "metadata": {
  "kernelspec": {
   "display_name": "Python 3 (ipykernel)",
   "language": "python",
   "name": "python3"
  },
  "language_info": {
   "codemirror_mode": {
    "name": "ipython",
    "version": 3
   },
   "file_extension": ".py",
   "mimetype": "text/x-python",
   "name": "python",
   "nbconvert_exporter": "python",
   "pygments_lexer": "ipython3",
   "version": "3.9.7"
  }
 },
 "nbformat": 4,
 "nbformat_minor": 5
}
